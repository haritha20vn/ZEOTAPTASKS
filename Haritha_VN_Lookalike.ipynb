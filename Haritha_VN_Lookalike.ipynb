{
  "nbformat": 4,
  "nbformat_minor": 0,
  "metadata": {
    "colab": {
      "provenance": []
    },
    "kernelspec": {
      "name": "python3",
      "display_name": "Python 3"
    },
    "language_info": {
      "name": "python"
    }
  },
  "cells": [
    {
      "cell_type": "markdown",
      "source": [
        "**Task 2: Lookalike Model**\n",
        "\n",
        "Build a Lookalike Model that takes a user's information as input and recommends 3 similar customers based on their profile and transaction history. The model should:\n",
        "\n",
        "● Use both customer and product information.\n",
        "\n",
        "● Assign a similarity score to each recommended customer.\n",
        "\n",
        "Deliverables:\n",
        "\n",
        "● Give the top 3 lookalikes with there similarity scores for the first 20 customers(CustomerID: C0001 - C0020) in Customers.csv. Form an “Lookalike.csv” which has just one map: Map<cust_id, List<cust_id, score>>\n",
        "\n",
        "● A Jupyter Notebook/Python script explaining your model development.\n",
        "\n",
        "Evaluation Criteria:\n",
        "\n",
        "● Model accuracy and logic.\n",
        "\n",
        "● Quality of recommendations and similarity scores."
      ],
      "metadata": {
        "id": "sEqYO-Wc6CFf"
      }
    },
    {
      "cell_type": "code",
      "execution_count": null,
      "metadata": {
        "colab": {
          "base_uri": "https://localhost:8080/"
        },
        "id": "lWDrUuBEh5uI",
        "outputId": "db99fdd7-0100-4767-d72c-67ccedddd5e9"
      },
      "outputs": [
        {
          "output_type": "stream",
          "name": "stdout",
          "text": [
            "Lookalike model results saved to Lookalike.csv\n",
            "   cust_id                                      lookalike_map\n",
            "0    C0001  [('C0197', 0.7636039102099085), ('C0026', 0.71...\n",
            "1    C0002  [('C0133', 0.8369411571595793), ('C0173', 0.78...\n",
            "2    C0003  [('C0181', 0.7467787056356553), ('C0085', 0.72...\n",
            "3    C0004  [('C0118', 0.7779858254769464), ('C0008', 0.75...\n",
            "4    C0005  [('C0128', 0.7410269556008633), ('C0096', 0.71...\n",
            "5    C0006  [('C0187', 0.8055748712864338), ('C0191', 0.68...\n",
            "6    C0007  [('C0045', 0.6930400365400461), ('C0181', 0.69...\n",
            "7    C0008  [('C0057', 0.799599372597294), ('C0143', 0.773...\n",
            "8    C0009  [('C0062', 0.7314050736916898), ('C0093', 0.67...\n",
            "9    C0010  [('C0092', 0.7082586822002053), ('C0145', 0.67...\n",
            "10   C0011  [('C0094', 0.6690893062065514), ('C0087', 0.63...\n",
            "11   C0012  [('C0136', 0.8420870183486332), ('C0076', 0.82...\n",
            "12   C0013  [('C0102', 0.7737204134263764), ('C0040', 0.73...\n",
            "13   C0014  [('C0128', 0.814203857359771), ('C0086', 0.636...\n",
            "14   C0015  [('C0185', 0.7157975575786293), ('C0047', 0.64...\n",
            "15   C0016  [('C0184', 0.8040217498683598), ('C0192', 0.69...\n",
            "16   C0017  [('C0164', 0.7499215249185914), ('C0041', 0.70...\n",
            "17   C0018  [('C0047', 0.7770827023144551), ('C0038', 0.74...\n",
            "18   C0019  [('C0070', 0.8319305092971736), ('C0191', 0.76...\n",
            "19   C0020  [('C0050', 0.8176943150534306), ('C0026', 0.67...\n"
          ]
        }
      ],
      "source": [
        "import pandas as pd\n",
        "from sklearn.preprocessing import StandardScaler\n",
        "from sklearn.metrics.pairwise import cosine_similarity\n",
        "from sklearn.feature_extraction.text import TfidfVectorizer\n",
        "\n",
        "# Load datasets\n",
        "customers = pd.read_csv(\"/content/drive/MyDrive/ZEOTAP/Customers.csv\")  # CustomerID, CustomerName, Region, SignupDate\n",
        "products = pd.read_csv(\"/content/drive/MyDrive/ZEOTAP/Products.csv\")    # ProductID, ProductName, Category, Price\n",
        "transactions = pd.read_csv(\"/content/drive/MyDrive/ZEOTAP/Transactions.csv\")  # TransactionID, CustomerID, ProductID, TransactionDate, Quantity, TotalValue, Price\n",
        "\n",
        "# Data Preparation\n",
        "# Merge Transactions with Products to get product details\n",
        "transactions = transactions.merge(products, on='ProductID', how='left')\n",
        "\n",
        "# Combine Transactions with Customers to get customer details\n",
        "customer_data = transactions.merge(customers, on='CustomerID', how='left')\n",
        "\n",
        "# Aggregate data to create customer profiles\n",
        "customer_profiles = customer_data.groupby('CustomerID').agg({\n",
        "    'ProductName': lambda x: ' '.join(x),  # List of purchased product names\n",
        "    'Category': lambda x: ' '.join(x),  # List of categories purchased\n",
        "    'Region': 'first',  # Customer's region\n",
        "}).reset_index()\n",
        "\n",
        "# Combine textual features for similarity calculation\n",
        "customer_profiles['CombinedFeatures'] = (\n",
        "    customer_profiles['ProductName'] + ' ' + customer_profiles['Category'] + ' ' + customer_profiles['Region']\n",
        ")\n",
        "\n",
        "# Calculate similarity using TF-IDF and cosine similarity\n",
        "tfidf = TfidfVectorizer()\n",
        "features_matrix = tfidf.fit_transform(customer_profiles['CombinedFeatures'])\n",
        "\n",
        "similarity_matrix = cosine_similarity(features_matrix)\n",
        "\n",
        "# Generate a map of lookalike customers for the first 20 customers\n",
        "lookalike_map = {}\n",
        "customer_ids = customer_profiles['CustomerID'].tolist()\n",
        "\n",
        "for i in range(min(20, len(customer_ids))):  # Limit to first 20 customers\n",
        "    customer_index = i\n",
        "    similarities = list(enumerate(similarity_matrix[customer_index]))\n",
        "    # Sort by similarity score in descending order, excluding the customer itself\n",
        "    similarities = sorted(similarities, key=lambda x: x[1], reverse=True)\n",
        "    top_similar_customers = [\n",
        "        (customer_ids[j], score) for j, score in similarities[1:4]  # Top 3 lookalikes\n",
        "    ]\n",
        "    lookalike_map[customer_ids[customer_index]] = top_similar_customers\n",
        "\n",
        "# Save Lookalike map to \"Lookalike.csv\"\n",
        "lookalike_data = {\n",
        "    'cust_id': [cust_id for cust_id in lookalike_map.keys()],\n",
        "    'lookalike_map': [lookalikes for lookalikes in lookalike_map.values()]\n",
        "}\n",
        "\n",
        "lookalike_df = pd.DataFrame(lookalike_data)\n",
        "lookalike_df.to_csv('Lookalike.csv', index=False)\n",
        "\n",
        "print(\"Lookalike model results saved to Lookalike.csv\")\n",
        "# Load the Lookalike.csv to display the contents\n",
        "lookalike_df = pd.read_csv('Lookalike.csv')\n",
        "\n",
        "# Print the first few rows to check the results\n",
        "print(lookalike_df)\n"
      ]
    }
  ]
}